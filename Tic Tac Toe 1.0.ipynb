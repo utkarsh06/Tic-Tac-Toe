{
 "cells": [
  {
   "cell_type": "markdown",
   "metadata": {},
   "source": [
    "# Tic Tac toe game 1.0"
   ]
  },
  {
   "cell_type": "code",
   "execution_count": null,
   "metadata": {},
   "outputs": [],
   "source": [
    "#Initializing characters that we will be printing.\n",
    "from IPython.display import clear_output\n",
    "\n",
    "hline = \"_\"\n",
    "vline = \"|\"\n",
    "char_dict = {'1':\" \",'2': \" \",'3': \" \",'4': \" \",'5': \" \",'6': \" \",'7': \" \",'8': \" \",'9': \" \"}\n"
   ]
  },
  {
   "cell_type": "code",
   "execution_count": null,
   "metadata": {},
   "outputs": [],
   "source": [
    "#This Function Makes the tic tac toe frame\n",
    "def Frame(): \n",
    "    for i in range (5):                     #Using this loop to make 5 rows\n",
    "        for j in range (5):                 #using this Loop to make 5 columns\n",
    "            if ((i == 1 or i ==3)):         #To draw a horizontal line on the second and the third row\n",
    "                print(hline, end = \"\")\n",
    "            elif((i == 0 or i == 2 or i ==4)) and (j == 1 or j == 3): #to Draw a vertical line at this position\n",
    "                print(vline, end = \"\")\n",
    "                                            #To leave a blank space at every playable position \n",
    "            elif(i == 0 and j == 0):            \n",
    "                print(char_dict['1'], end = \"\") \n",
    "            elif(i == 0 and j == 2):\n",
    "                print(char_dict['2'], end = \"\")\n",
    "            elif(i == 0 and j == 4):\n",
    "                print(char_dict['3'], end = \"\")\n",
    "            elif(i == 2 and j == 0):\n",
    "                print(char_dict['4'], end = \"\")\n",
    "            elif(i == 2 and j == 2):\n",
    "                print(char_dict['5'], end = \"\")\n",
    "            elif(i == 2 and j == 4):\n",
    "                print(char_dict['6'], end = \"\")\n",
    "            elif(i == 4 and j == 0):\n",
    "                print(char_dict['7'], end = \"\")\n",
    "            elif(i == 4 and j == 2):\n",
    "                print(char_dict['8'], end = \"\")\n",
    "            elif(i == 4 and j == 4):\n",
    "                print(char_dict['9'], end = \"\")\n",
    "        print()"
   ]
  },
  {
   "cell_type": "code",
   "execution_count": null,
   "metadata": {},
   "outputs": [],
   "source": [
    "Frame()                                    #To call and show the frame"
   ]
  },
  {
   "cell_type": "code",
   "execution_count": null,
   "metadata": {},
   "outputs": [],
   "source": [
    "#This function checks any of the 9 possible winning conditions\n",
    "def winner():\n",
    "    return (((char_dict['1'] == char_dict['2']) and (char_dict['2'] == char_dict['3'])) or\n",
    "            ((char_dict['4'] == char_dict['5']) and (char_dict['5'] == char_dict['6'])) or\n",
    "            ((char_dict['7'] == char_dict['8']) and (char_dict['8'] == char_dict['9'])) or\n",
    "            ((char_dict['1'] == char_dict['4']) and (char_dict['4'] == char_dict['7'])) or\n",
    "            ((char_dict['2'] == char_dict['5']) and (char_dict['5'] == char_dict['8'])) or\n",
    "            ((char_dict['3'] == char_dict['6']) and (char_dict['6'] == char_dict['9'])) or\n",
    "            ((char_dict['1'] == char_dict['5']) and (char_dict['5'] == char_dict['8'])) or\n",
    "            ((char_dict['3'] == char_dict['5']) and (char_dict['5'] == char_dict['7'])))"
   ]
  },
  {
   "cell_type": "code",
   "execution_count": null,
   "metadata": {},
   "outputs": [],
   "source": [
    "#These are the positons that the players can choose from\n",
    "char_dict = {'1':\"1\",'2': \"2\",'3': \"3\",'4': \"4\",'5': \"5\",'6': \"6\",'7': \"7\",'8': \"8\",'9': \"9\"}"
   ]
  },
  {
   "cell_type": "code",
   "execution_count": null,
   "metadata": {},
   "outputs": [],
   "source": [
    "Frame()                                 #this function displays the numbered playable positions."
   ]
  },
  {
   "cell_type": "code",
   "execution_count": null,
   "metadata": {},
   "outputs": [],
   "source": [
    "#This is the game\n",
    "\n",
    "game = \"yes\" \n",
    "Frame()\n",
    "    \n",
    "while (game.lower() == \"yes\"): #To check if the user wants to play the game.\n",
    "    move = 0\n",
    "    win = False\n",
    "    char_dict = {'1':\"1\",'2': \"2\",'3': \"3\",'4': \"4\",'5': \"5\",'6': \"6\",'7': \"7\",'8': \"8\",'9': \"9\"}\n",
    "    while (not win):#The game will continue till a player wins.\n",
    "        \n",
    "        if (move%2 ==0):\n",
    "            print(\"This is the move of player 1\")\n",
    "            print()\n",
    "            char_pos = str(input(\"Enter the spot you want to mark as your char: \"))\n",
    "            char_dict[char_pos] = \"X\"\n",
    "            Frame()\n",
    "            \n",
    "            if (winner()):\n",
    "                print()\n",
    "                print(\"Player 1 wins!!!!\")\n",
    "                win = True\n",
    "            \n",
    "            \n",
    "        else:\n",
    "            print(\"This is the move of player 2\")\n",
    "            print()\n",
    "            char_pos = str(input(\"Enter the spot you want to mark as your char: \"))\n",
    "            char_dict[char_pos] = 'O'\n",
    "            Frame()\n",
    "            \n",
    "            if (winner()):\n",
    "                print()\n",
    "                print(\"Player 2 wins!!!!\")\n",
    "                win = True\n",
    "                    \n",
    "        move += 1 \n",
    "    \n",
    "    game = input(\"DO YOU WANT TO PLAY AGAIN?\")\n",
    "            "
   ]
  }
 ],
 "metadata": {
  "kernelspec": {
   "display_name": "Python 3",
   "language": "python",
   "name": "python3"
  },
  "language_info": {
   "codemirror_mode": {
    "name": "ipython",
    "version": 3
   },
   "file_extension": ".py",
   "mimetype": "text/x-python",
   "name": "python",
   "nbconvert_exporter": "python",
   "pygments_lexer": "ipython3",
   "version": "3.7.1"
  }
 },
 "nbformat": 4,
 "nbformat_minor": 2
}
